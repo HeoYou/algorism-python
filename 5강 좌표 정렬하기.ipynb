{
 "cells": [
  {
   "cell_type": "code",
   "execution_count": null,
   "metadata": {},
   "outputs": [],
   "source": [
    "n = int(input())\n",
    "\n",
    "data = []\n",
    "\n",
    "for i in range(n):\n",
    "    input_data = list(map(int, input().split(' ')))\n",
    "    data.append(input_data)\n",
    "\n",
    "data = sorted(data)\n",
    "\n",
    "for i in data:\n",
    "    print(i[0], i[1])"
   ]
  },
  {
   "cell_type": "code",
   "execution_count": 1,
   "metadata": {},
   "outputs": [
    {
     "name": "stdout",
     "output_type": "stream",
     "text": [
      "3\n",
      "5 3\n",
      "1 1\n",
      "1 -1\n",
      "1 -1\n",
      "1 1\n",
      "5 3\n"
     ]
    }
   ],
   "source": [
    "n = int(input())\n",
    "\n",
    "data = []\n",
    "\n",
    "for i in range(n):\n",
    "    x, y = list(map(int, input().split(' ')))\n",
    "    data.append([x, y])\n",
    "\n",
    "data = sorted(data)\n",
    "\n",
    "for i in data:\n",
    "    print(i[0], i[1])"
   ]
  }
 ],
 "metadata": {
  "kernelspec": {
   "display_name": "Python 3",
   "language": "python",
   "name": "python3"
  },
  "language_info": {
   "codemirror_mode": {
    "name": "ipython",
    "version": 3
   },
   "file_extension": ".py",
   "mimetype": "text/x-python",
   "name": "python",
   "nbconvert_exporter": "python",
   "pygments_lexer": "ipython3",
   "version": "3.7.4"
  }
 },
 "nbformat": 4,
 "nbformat_minor": 2
}
