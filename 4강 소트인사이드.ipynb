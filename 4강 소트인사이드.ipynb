{
 "cells": [
  {
   "cell_type": "code",
   "execution_count": null,
   "metadata": {},
   "outputs": [],
   "source": [
    "inputData = int(input())\n",
    "\n",
    "data = []\n",
    "\n",
    "while True:\n",
    "    if inputData < 10:\n",
    "        data.append(inputData)\n",
    "        break\n",
    "    else:\n",
    "        cutData = inputData % 10\n",
    "        inputData = int(inputData / 10)\n",
    "        data.append(cutData)\n",
    "\n",
    "data.sort(reverse=True)\n",
    "\n",
    "\n",
    "print(''.join(map(str, data)))"
   ]
  },
  {
   "cell_type": "code",
   "execution_count": 4,
   "metadata": {},
   "outputs": [
    {
     "name": "stdout",
     "output_type": "stream",
     "text": [
      "157467\n",
      "776541"
     ]
    }
   ],
   "source": [
    "data = input()\n",
    "\n",
    "for i in range(9, -1, -1):\n",
    "    for j in data:\n",
    "        if int(j) == i:\n",
    "            print(i, end='')"
   ]
  },
  {
   "cell_type": "code",
   "execution_count": null,
   "metadata": {},
   "outputs": [],
   "source": []
  }
 ],
 "metadata": {
  "kernelspec": {
   "display_name": "Python 3",
   "language": "python",
   "name": "python3"
  },
  "language_info": {
   "codemirror_mode": {
    "name": "ipython",
    "version": 3
   },
   "file_extension": ".py",
   "mimetype": "text/x-python",
   "name": "python",
   "nbconvert_exporter": "python",
   "pygments_lexer": "ipython3",
   "version": "3.7.4"
  }
 },
 "nbformat": 4,
 "nbformat_minor": 2
}
